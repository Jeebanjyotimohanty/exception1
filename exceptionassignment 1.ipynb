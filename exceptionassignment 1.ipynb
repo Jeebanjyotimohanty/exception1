{
 "cells": [
  {
   "cell_type": "code",
   "execution_count": 1,
   "id": "0118dd6c-73be-4499-a6c3-4cd3dea81f7f",
   "metadata": {},
   "outputs": [
    {
     "ename": "ZeroDivisionError",
     "evalue": "division by zero",
     "output_type": "error",
     "traceback": [
      "\u001b[0;31m---------------------------------------------------------------------------\u001b[0m",
      "\u001b[0;31mZeroDivisionError\u001b[0m                         Traceback (most recent call last)",
      "Cell \u001b[0;32mIn[1], line 8\u001b[0m\n\u001b[1;32m      5\u001b[0m \u001b[38;5;66;03m#2)when syntactically correct code runs into an error, Python will throw an exception error. This exception error will crash the program if it is unhandled.\u001b[39;00m\n\u001b[1;32m      6\u001b[0m \u001b[38;5;66;03m#ex:-\u001b[39;00m\n\u001b[1;32m      7\u001b[0m a\u001b[38;5;241m=\u001b[39m\u001b[38;5;241m10\u001b[39m\n\u001b[0;32m----> 8\u001b[0m \u001b[43ma\u001b[49m\u001b[38;5;241;43m/\u001b[39;49m\u001b[38;5;241;43m0\u001b[39;49m\n",
      "\u001b[0;31mZeroDivisionError\u001b[0m: division by zero"
     ]
    }
   ],
   "source": [
    "\"\"\"1)An exception is an event, which occurs during the execution of a program that disrupts the normal flow of the program's instructions.\n",
    "    syntax error-Syntax errors often called as parsing errors, are predominantly caused when the parser detects a syntactic issue in your code.\n",
    "    exception-Even if the syntax of a statement or expression is correct, it may still cause an error when executed.\n",
    "\"\"\"\n",
    "#2)when syntactically correct code runs into an error, Python will throw an exception error. This exception error will crash the program if it is unhandled.\n",
    "#ex:-\n",
    "a=10\n",
    "a/0"
   ]
  },
  {
   "cell_type": "code",
   "execution_count": 4,
   "id": "3905d2cd-21fa-4ed5-9f83-f9456218df0f",
   "metadata": {},
   "outputs": [],
   "source": [
    "\"\"\"\n",
    "Try: This block will test the excepted error to occur\n",
    "Except:  Here you can handle the error\n",
    "Else: If there is no exception then this block will be executed\n",
    "Finally: Finally block always gets executed either exception is generated or not\n",
    "raise:Python raise Keyword is used to raise exceptions or errors\n",
    "\"\"\"\n",
    "#try and else\n",
    "import logging\n",
    "logging.basicConfig(filename=\"test1.log\", level=logging.INFO)\n",
    "try:\n",
    "    f=open(\"test1.txt\",\"r\")\n",
    "except Exception as e:\n",
    "    logging.info(\"an error has occured and it is my except block\")\n",
    "logging.shutdown()\n",
    "    "
   ]
  },
  {
   "cell_type": "code",
   "execution_count": 3,
   "id": "cca007e3-d5b9-4050-958d-309bd5141c46",
   "metadata": {},
   "outputs": [],
   "source": [
    "#finally\n",
    "import logging\n",
    "logging.basicConfig(filename=\"test2.log\", level=logging.INFO , format=\"%(asctime)s %(level)s\")\n",
    "try:   \n",
    "    f=open(\"test1.txt\",\"r\")\n",
    "except Exception as e:\n",
    "    logging.info(\"an error has occured and it is my except block\")\n",
    "finally:\n",
    "    logging.info(\"It will be executed at any cost\")"
   ]
  },
  {
   "cell_type": "code",
   "execution_count": 4,
   "id": "c2fa1fa8-a700-4cf3-84a9-abaab98d3bab",
   "metadata": {},
   "outputs": [
    {
     "ename": "Exception",
     "evalue": "The number shouldn't be an odd integer",
     "output_type": "error",
     "traceback": [
      "\u001b[0;31m---------------------------------------------------------------------------\u001b[0m",
      "\u001b[0;31mException\u001b[0m                                 Traceback (most recent call last)",
      "Cell \u001b[0;32mIn[4], line 5\u001b[0m\n\u001b[1;32m      2\u001b[0m a \u001b[38;5;241m=\u001b[39m \u001b[38;5;241m5\u001b[39m\n\u001b[1;32m      4\u001b[0m \u001b[38;5;28;01mif\u001b[39;00m a \u001b[38;5;241m%\u001b[39m \u001b[38;5;241m2\u001b[39m \u001b[38;5;241m!=\u001b[39m \u001b[38;5;241m0\u001b[39m:\n\u001b[0;32m----> 5\u001b[0m \t\u001b[38;5;28;01mraise\u001b[39;00m \u001b[38;5;167;01mException\u001b[39;00m(\u001b[38;5;124m\"\u001b[39m\u001b[38;5;124mThe number shouldn\u001b[39m\u001b[38;5;124m'\u001b[39m\u001b[38;5;124mt be an odd integer\u001b[39m\u001b[38;5;124m\"\u001b[39m)\n",
      "\u001b[0;31mException\u001b[0m: The number shouldn't be an odd integer"
     ]
    }
   ],
   "source": [
    "#raise\n",
    "a = 5\n",
    "\n",
    "if a % 2 != 0:\n",
    "\traise Exception(\"The number shouldn't be an odd integer\")\n"
   ]
  },
  {
   "cell_type": "code",
   "execution_count": null,
   "id": "265d0974-ec68-41ea-9850-0caa319456a8",
   "metadata": {},
   "outputs": [],
   "source": [
    "#In Python, we can define custom exceptions by creating a new class that is derived from the built-in Exception class.\n",
    "#need:-When we are developing a large Python program, it is a good practice to place all the user-defined exceptions that our program raises in a separate file.\n"
   ]
  }
 ],
 "metadata": {
  "kernelspec": {
   "display_name": "Python 3 (ipykernel)",
   "language": "python",
   "name": "python3"
  },
  "language_info": {
   "codemirror_mode": {
    "name": "ipython",
    "version": 3
   },
   "file_extension": ".py",
   "mimetype": "text/x-python",
   "name": "python",
   "nbconvert_exporter": "python",
   "pygments_lexer": "ipython3",
   "version": "3.10.8"
  }
 },
 "nbformat": 4,
 "nbformat_minor": 5
}
